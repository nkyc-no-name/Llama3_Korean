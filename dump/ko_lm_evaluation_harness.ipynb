{
  "nbformat": 4,
  "nbformat_minor": 0,
  "metadata": {
    "colab": {
      "provenance": [],
      "include_colab_link": true
    },
    "kernelspec": {
      "name": "python3",
      "display_name": "Python 3"
    },
    "language_info": {
      "name": "python"
    }
  },
  "cells": [
    {
      "cell_type": "markdown",
      "metadata": {
        "id": "view-in-github",
        "colab_type": "text"
      },
      "source": [
        "<a href=\"https://colab.research.google.com/github/nkyc-no-name/Llama3_Korean/blob/main/ko_lm_evaluation_harness.ipynb\" target=\"_parent\"><img src=\"https://colab.research.google.com/assets/colab-badge.svg\" alt=\"Open In Colab\"/></a>"
      ]
    },
    {
      "cell_type": "markdown",
      "source": [
        "### [LLM evaluation for Korean](https://github.com/Beomi/ko-lm-evaluation-harness/tree/main)  \\(extended from [lm-evaluation-harness](https://github.com/EleutherAI/lm-evaluation-harness))"
      ],
      "metadata": {
        "id": "uUgDxVgML97I"
      }
    },
    {
      "cell_type": "code",
      "execution_count": null,
      "metadata": {
        "id": "df-3uoeGGYJx"
      },
      "outputs": [],
      "source": [
        "!git clone https://github.com/Beomi/ko-lm-evaluation-harness\n",
        "%cd ko-lm-evaluation-harness\n",
        "!pip install -r requirements.txt"
      ]
    },
    {
      "cell_type": "markdown",
      "source": [
        "hellaswag"
      ],
      "metadata": {
        "id": "OEXntnY7MvkN"
      }
    },
    {
      "cell_type": "code",
      "source": [
        "!python main.py \\\n",
        "    --model hf-causal \\\n",
        "    --model_args pretrained=meta-llama/Meta-Llama-3-8B-Instruct \\\n",
        "    --tasks hellaswag \\\n",
        "    --device cuda:0"
      ],
      "metadata": {
        "id": "tfVAhY0faQjB"
      },
      "execution_count": null,
      "outputs": []
    },
    {
      "cell_type": "markdown",
      "source": [
        "hellaswag for Korean in KOBEST"
      ],
      "metadata": {
        "id": "lYZ79Dt1Mzmk"
      }
    },
    {
      "cell_type": "code",
      "source": [
        "!python main.py \\\n",
        "    --model hf-causal \\\n",
        "    --model_args pretrained=meta-llama/Meta-Llama-3-8B-Instruct \\\n",
        "    --tasks kobest_hellaswag \\\n",
        "    --device cuda:0"
      ],
      "metadata": {
        "id": "QlhISJC2I8yL"
      },
      "execution_count": null,
      "outputs": []
    },
    {
      "cell_type": "code",
      "source": [
        "!python main.py \\\n",
        "    --model unsloth \\\n",
        "    --model_args pretrained=NoNameFactory/llama-3-8b-4bit-beomi_pretrain-callcenter_finetuned \\\n",
        "    --tasks kobest_hellaswag \\\n",
        "    --device cuda:0"
      ],
      "metadata": {
        "id": "Q2DpaarFKqrl"
      },
      "execution_count": null,
      "outputs": []
    },
    {
      "cell_type": "markdown",
      "source": [
        "run all (check [this](https://github.com/Beomi/ko-lm-evaluation-harness/blob/main/run_all.sh) for all the tasks)"
      ],
      "metadata": {
        "id": "s5lv3cV9NCWU"
      }
    },
    {
      "cell_type": "code",
      "source": [
        "!./run_all.sh meta-llama/Meta-Llama-3-8B-Instruct '0'"
      ],
      "metadata": {
        "id": "zXRBLuGaGs1h"
      },
      "execution_count": null,
      "outputs": []
    }
  ]
}