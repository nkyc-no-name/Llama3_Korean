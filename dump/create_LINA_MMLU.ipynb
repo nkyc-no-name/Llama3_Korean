{
  "nbformat": 4,
  "nbformat_minor": 0,
  "metadata": {
    "colab": {
      "provenance": [],
      "authorship_tag": "ABX9TyPE57fjMZj809t9Hf/xxcN4",
      "include_colab_link": true
    },
    "kernelspec": {
      "name": "python3",
      "display_name": "Python 3"
    },
    "language_info": {
      "name": "python"
    }
  },
  "cells": [
    {
      "cell_type": "markdown",
      "metadata": {
        "id": "view-in-github",
        "colab_type": "text"
      },
      "source": [
        "<a href=\"https://colab.research.google.com/github/nkyc-no-name/Llama3_Korean/blob/main/create_LINA_MMLU.ipynb\" target=\"_parent\"><img src=\"https://colab.research.google.com/assets/colab-badge.svg\" alt=\"Open In Colab\"/></a>"
      ]
    },
    {
      "cell_type": "code",
      "execution_count": null,
      "metadata": {
        "id": "IwI0qruNinJe"
      },
      "outputs": [],
      "source": [
        "# Set up your OpenAI API key\n",
        "import os\n",
        "from openai import OpenAI\n",
        "\n",
        "client = OpenAI(api_key=\"sk-\")  # Pass the key directly"
      ]
    },
    {
      "cell_type": "code",
      "source": [
        "def create_mcq_from_qa(qa_pair):\n",
        "    # Extract question and answer from the QA pair\n",
        "    parts = qa_pair.split('[/INST]')\n",
        "    question = parts[0].strip()[6:]  # Removing '[INST] ' from the start\n",
        "    answer = parts[1].strip()\n",
        "\n",
        "    # Prompt for GPT-4 to generate multiple-choice options\n",
        "    prompt = f\"I need to create multiple-choice evaluation problems in Korean for a Question-Answer pair I provide you. \\\n",
        "    e.g. Question-Answer pair: \\\n",
        "    Q: 지난달 통장잔고가 부족해서 자동이체 출금이 되지 않았습니다. 추후 입금했는데 언제 출금이 되나요? \\\n",
        "    A: 지정하신 정규 이체일에 출금 완료되지 않을 경우 회사에서 정한 기준에 따라 보험료 정상출금 시까지 재청구 진행됩니다.\\\n",
        "    단,실효기준일 이전까지만 진행되며,자세한 재청구 기준 확인이 필요하시거나 잔고 유지 후5영업일 이상 경과했을 경우 등 문의가 있으신 경우 당사 고객센터(1588-0058)로 연락주시기 바랍니다. \\\n",
        "    The format of the output problem should be like this: \\\n",
        "    e.g. Q: 지난달 통장잔고가 부족해서 자동이체 출금이 안 될 경우, 출금이 재청구되는 기준은 무엇인가요? \\\n",
        "    1. 보험료 정상출금 시까지, 2. 통장잔고가 0이 될 때까지, 3. 고객센터에 문의한 후, 4. 5영업일 이후, \\\n",
        "    정답: B. \\\n",
        "    If the question in the Question-Answer pair includes a specific insurance product, \\\n",
        "    make sure to refer to the name in the beginnig of the question of each problem. \\\n",
        "    Any comment, summary, explanation should not be generated other than requested format. \\\n",
        "    Question: {question}\\nAnswer: {answer}\\n\"\n",
        "\n",
        "    response = client.chat.completions.create(\n",
        "        model=\"gpt-4o\",\n",
        "        messages=[\n",
        "            {\"role\": \"system\", \"content\": prompt},\n",
        "        ]\n",
        "    )\n",
        "\n",
        "    return response.choices[0].message.content.strip()\n",
        "\n",
        "def process_file(input_file, output_file):\n",
        "    with open(input_file, 'r', encoding='utf-8') as infile:\n",
        "        qa_lines = infile.readlines()\n",
        "\n",
        "    all_mcqs = []\n",
        "\n",
        "    for qa_line in qa_lines:\n",
        "        if qa_line.strip():  # Skip empty lines\n",
        "            mcq = create_mcq_from_qa(qa_line.strip())\n",
        "            all_mcqs.append(mcq)\n",
        "\n",
        "    with open(output_file, 'w', encoding='utf-8') as outfile:\n",
        "        for mcq in all_mcqs:\n",
        "            outfile.write(mcq + '\\n')\n",
        "\n",
        "# Specify the input and output file paths\n",
        "input_file = 'all.txt'\n",
        "output_file = 'lina_mmlu.txt'\n",
        "\n",
        "# Process the file to generate multiple-choice questions\n",
        "process_file(input_file, output_file)\n",
        "\n",
        "print(f'Multiple-choice questions have been written to {output_file}')"
      ],
      "metadata": {
        "colab": {
          "base_uri": "https://localhost:8080/"
        },
        "id": "rv5nushD6qi_",
        "outputId": "df2a274e-52ba-4ded-e7d7-b646a6b593c7"
      },
      "execution_count": null,
      "outputs": [
        {
          "output_type": "stream",
          "name": "stdout",
          "text": [
            "Multiple-choice questions have been written to lina_mmlu.txt\n"
          ]
        }
      ]
    },
    {
      "cell_type": "code",
      "source": [
        "import csv\n",
        "\n",
        "# 입력 파일과 출력 파일 경로\n",
        "input_file = 'lina_mmlu.txt'\n",
        "output_file = 'lina_mmlu.csv'\n",
        "\n",
        "# 결과를 저장할 리스트\n",
        "data = []\n",
        "\n",
        "# 파일 읽기\n",
        "with open(input_file, 'r', encoding='utf-8') as file:\n",
        "    while True:\n",
        "        line = file.readline()\n",
        "        if not line:\n",
        "            break\n",
        "        if line.startswith(\"Q:\"):\n",
        "            question = line.strip()[3:]\n",
        "            choices = []\n",
        "            for _ in range(4):\n",
        "                choice_line = file.readline().strip()\n",
        "                choices.append(choice_line[3:].strip())\n",
        "            answer_line = file.readline().strip()\n",
        "            if \"정답:\" in answer_line:\n",
        "                answer = answer_line.split(\"정답:\")[1].strip().rstrip('.')  # 정답 문자 추출\n",
        "            else:\n",
        "                answer = \"\"\n",
        "            data.append([question, choices[0], choices[1], choices[2], choices[3], answer])\n",
        "\n",
        "# CSV 파일로 쓰기\n",
        "with open(output_file, 'w', newline='', encoding='utf-8') as csvfile:\n",
        "    writer = csv.writer(csvfile)\n",
        "    writer.writerow(['Question', 'A', 'B', 'C', 'D', 'Answer'])  # 헤더 작성\n",
        "    for row in data:\n",
        "        writer.writerow(row)\n",
        "\n",
        "print(\"CSV 파일로 변환이 완료되었습니다.\")\n"
      ],
      "metadata": {
        "id": "ADD5nyfjprW8"
      },
      "execution_count": null,
      "outputs": []
    }
  ]
}